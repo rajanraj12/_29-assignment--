{
 "cells": [
  {
   "cell_type": "code",
   "execution_count": 1,
   "id": "78e14f22-2912-4b9a-b10f-d5ef1815702e",
   "metadata": {},
   "outputs": [],
   "source": [
    "#who developed the python programming language?\n",
    "#Ans- Guido van Rossum "
   ]
  },
  {
   "cell_type": "code",
   "execution_count": 2,
   "id": "51a74156-9de3-4730-a046-4520139240fc",
   "metadata": {},
   "outputs": [],
   "source": [
    "#which type of programming does python support?\n",
    "#Ans- Python is a multi-paradigm programming language. Object-oriented programming and structured programming are fully supported."
   ]
  },
  {
   "cell_type": "code",
   "execution_count": 3,
   "id": "78de20a8-3364-450a-a361-24ad717d2af7",
   "metadata": {},
   "outputs": [],
   "source": [
    "#is python case sensitive when dealing with identifiers?\n",
    "#Ans- Yes, python is case-sensitive language."
   ]
  },
  {
   "cell_type": "code",
   "execution_count": 4,
   "id": "36eba9ca-7919-42c2-a4aa-90115703f110",
   "metadata": {},
   "outputs": [],
   "source": [
    "#what is the correct extension of the python file?\n",
    "#Ans- .py"
   ]
  },
  {
   "cell_type": "code",
   "execution_count": 5,
   "id": "814e3e09-e1d2-42c7-9ec3-30644062b354",
   "metadata": {},
   "outputs": [],
   "source": [
    "#is python code compiled or interpreted?\n",
    "#Ans- python is an interpreted language."
   ]
  },
  {
   "cell_type": "code",
   "execution_count": 6,
   "id": "755f9971-181b-4869-b649-33402d5be4e2",
   "metadata": {},
   "outputs": [],
   "source": [
    "#name a few blocks of code used to define in python language?\n",
    "#Ans- a module, a function body, and a class definition braces{}."
   ]
  },
  {
   "cell_type": "code",
   "execution_count": 7,
   "id": "d1a93b82-aa0b-4bb0-abfe-df0bc737b118",
   "metadata": {},
   "outputs": [],
   "source": [
    "#state a character used to give single-line comments in python?\n",
    "#Ans- used to give single-line comment in python is # character."
   ]
  },
  {
   "cell_type": "code",
   "execution_count": 8,
   "id": "56b1ac17-e397-4fc1-96cf-6350fdae0567",
   "metadata": {},
   "outputs": [],
   "source": [
    "#mention functions which can help us to find the version of python that we are currently working on?\n",
    "#Ans- The function sys. version can help us to find the version of python that we are currently working on."
   ]
  },
  {
   "cell_type": "code",
   "execution_count": 11,
   "id": "c676726b-b105-4712-8670-dc4ead41a384",
   "metadata": {},
   "outputs": [],
   "source": [
    "#python supports the creation of anonymous function at runtime using a construct called is\n",
    "#lambda"
   ]
  },
  {
   "cell_type": "code",
   "execution_count": 12,
   "id": "a010dcb1-8c2d-48f6-a5a3-b768a19f9f4f",
   "metadata": {},
   "outputs": [],
   "source": [
    "#what does pip stand for python?\n",
    "#Ans- preferred installer program."
   ]
  },
  {
   "cell_type": "code",
   "execution_count": 13,
   "id": "9c6510b6-a93b-48cc-92ee-33857ab2036c",
   "metadata": {},
   "outputs": [],
   "source": [
    "#mention a few built-in function in python?\n",
    "#Ans- int , str, float , append , index , sort , len , pop ,remove , insert , keys , print , type , etc.  "
   ]
  },
  {
   "cell_type": "code",
   "execution_count": 14,
   "id": "dc091498-1680-4f55-8cc7-3b226e928fd0",
   "metadata": {},
   "outputs": [],
   "source": [
    "#what is the maximum possible length of an identifier in python?\n",
    "#Ans- 79 character "
   ]
  },
  {
   "cell_type": "code",
   "execution_count": 15,
   "id": "ec14585c-cbf7-4c01-8968-e0f0eca9fcd8",
   "metadata": {},
   "outputs": [],
   "source": [
    "#what are the benefits of using python?\n",
    "#Ans- data science , basic game development, web development , computer graphics , etc."
   ]
  },
  {
   "cell_type": "code",
   "execution_count": 16,
   "id": "f7eeb744-8b53-4180-a8b0-d9ffdd41d3bc",
   "metadata": {},
   "outputs": [],
   "source": [
    "#how is memory managed in python?\n",
    "#Ans- involves a private heap containing all Python objects and data structures."
   ]
  },
  {
   "cell_type": "code",
   "execution_count": 22,
   "id": "5884cd95-acb2-4fbd-992f-a1949982c2dc",
   "metadata": {},
   "outputs": [
    {
     "data": {
      "text/plain": [
       "'Right-clicking This PC and going to Properties\\n\\nClicking on the Advanced system settings in the menu on the left.\\n\\nClicking on the Environment Variables button on the bottom right.\\n\\nIn the System variables section, selecting the Path variable and clicking on Edit. The next screen will show all the directories that are currently a part of the PATH variable.\\n\\nClicking on New and entering Python’s install directory'"
      ]
     },
     "execution_count": 22,
     "metadata": {},
     "output_type": "execute_result"
    }
   ],
   "source": [
    "#how to install python on windows and set path variables?\n",
    "'''Right-clicking This PC and going to Properties\n",
    "\n",
    "Clicking on the Advanced system settings in the menu on the left.\n",
    "\n",
    "Clicking on the Environment Variables button on the bottom right.\n",
    "\n",
    "In the System variables section, selecting the Path variable and clicking on Edit. The next screen will show all the directories that are currently a part of the PATH variable.\n",
    "\n",
    "Clicking on New and entering Python’s install directory'''"
   ]
  },
  {
   "cell_type": "code",
   "execution_count": 20,
   "id": "51be72c2-cca8-4ae7-89b3-3b9b08c80a63",
   "metadata": {},
   "outputs": [
    {
     "data": {
      "text/plain": [
       "'Indentation refers to the spaces at the beginning of a code line. Where in other programming languages the indentation in code is for readability only, the indentation in Python is very important. Python uses indentation to indicate a block of code.'"
      ]
     },
     "execution_count": 20,
     "metadata": {},
     "output_type": "execute_result"
    }
   ],
   "source": [
    "#is indentation required in python?\n",
    "'''Indentation refers to the spaces at the beginning of a code line. Where in other programming languages the indentation in code is for readability only, the indentation in Python is very important. Python uses indentation to indicate a block of code.'''"
   ]
  },
  {
   "cell_type": "code",
   "execution_count": null,
   "id": "d8022deb-d055-483f-be33-dd3ae1e41464",
   "metadata": {},
   "outputs": [],
   "source": []
  }
 ],
 "metadata": {
  "kernelspec": {
   "display_name": "Python 3 (ipykernel)",
   "language": "python",
   "name": "python3"
  },
  "language_info": {
   "codemirror_mode": {
    "name": "ipython",
    "version": 3
   },
   "file_extension": ".py",
   "mimetype": "text/x-python",
   "name": "python",
   "nbconvert_exporter": "python",
   "pygments_lexer": "ipython3",
   "version": "3.10.6"
  }
 },
 "nbformat": 4,
 "nbformat_minor": 5
}
